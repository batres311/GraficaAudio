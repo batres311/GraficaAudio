{
 "cells": [
  {
   "cell_type": "code",
   "execution_count": 1,
   "id": "db69da73",
   "metadata": {},
   "outputs": [],
   "source": [
    "import librosa\n",
    "import math\n",
    "import os\n",
    "import IPython.display as ipd\n",
    "from mpl_toolkits.axes_grid1 import make_axes_locatable\n",
    "import pyaudio #Libreria que ayuda para obtener el audio y darle formato\n",
    "import wave  #Permite leer y escribir archivos wav\n",
    "import winsound #Permite acceder a la maquinaria básica de reproducción de sonidos proporcionada por la plataformas Windows.\n",
    "import scipy.io.wavfile as waves #libreria importante para los datos del audio\n",
    "import numpy as np #libreria importante para arrays y matrices\n",
    "import matplotlib.pyplot as plt #libreria para graficar resultados\n",
    "import scipy.fftpack as fourier #libreria para pasar al dominio de la frecuencia de forma sencilla\n",
    "import time\n",
    "from datetime import datetime\n"
   ]
  },
  {
   "cell_type": "code",
   "execution_count": 2,
   "id": "69bd3146",
   "metadata": {},
   "outputs": [
    {
     "data": {
      "text/plain": [
       "datetime.date(2023, 5, 8)"
      ]
     },
     "execution_count": 2,
     "metadata": {},
     "output_type": "execute_result"
    }
   ],
   "source": [
    "now = datetime.now()\n",
    "now.date()"
   ]
  },
  {
   "cell_type": "code",
   "execution_count": 3,
   "id": "7422962a",
   "metadata": {},
   "outputs": [
    {
     "data": {
      "text/plain": [
       "datetime.time(14, 36, 48, 199947)"
      ]
     },
     "execution_count": 3,
     "metadata": {},
     "output_type": "execute_result"
    }
   ],
   "source": [
    "now.time()"
   ]
  },
  {
   "cell_type": "code",
   "execution_count": 4,
   "id": "9923bc10",
   "metadata": {},
   "outputs": [
    {
     "name": "stdout",
     "output_type": "stream",
     "text": [
      "8/5/2023 14:36:48\n"
     ]
    }
   ],
   "source": [
    "FechaHora=str(now.day)+\"/\"+str(now.month)+\"/\"+str(now.year)+\" \"+str(now.hour)+\":\"+str(now.minute)+\":\"+str(now.second)\n",
    "print(FechaHora)"
   ]
  },
  {
   "cell_type": "code",
   "execution_count": 5,
   "id": "b11657b6",
   "metadata": {},
   "outputs": [
    {
     "data": {
      "text/plain": [
       "'8/5/2023 14:36:48'"
      ]
     },
     "execution_count": 5,
     "metadata": {},
     "output_type": "execute_result"
    }
   ],
   "source": [
    "FechaHora"
   ]
  },
  {
   "cell_type": "code",
   "execution_count": 6,
   "id": "4a6f6635",
   "metadata": {},
   "outputs": [],
   "source": [
    "WAVEFORM_path_export = 'waveform'\n",
    "SPECTROGRAM_path_export='spectogram'\n",
    "GREYSPECTROGRAM_path_export='grey spectrogram'\n",
    "MELSPECTROGRAM_path_export='mel spectrogram'\n",
    "CHROMAGRAM_path_export='chromagram'\n",
    "MFCC_path_export='mfcc'\n",
    "DELTA_MFCC_path_export='delta mfccs'\n",
    "DELTA2_MFCC_path_export='delta2 mfccs'\n",
    "FvsA_path_export='FrequencyAmplitude'\n",
    "AMPLITUDEENV_path_export='amplitude envelope'\n",
    "RMSE_path_export='root mean square energy'\n",
    "ZCR_path_export='zero croosing rate'\n",
    "BER_path_export='band energy ratio'\n",
    "SpecCent_path_export='spectral centroid'\n",
    "Bandwidth_path_export='bandwidth'\n",
    "#clip = (r'C:\\Users\\BHC4SLP\\Documents\\Python Projects\\Proyecto2-GraficaAudio\\PruebaAudio1.wav')"
   ]
  },
  {
   "cell_type": "code",
   "execution_count": 7,
   "id": "561be366",
   "metadata": {},
   "outputs": [],
   "source": [
    "duracion=5 #Periodo de grabacion de 5 segundos\n",
    "archivo=\"PruebaAudio1.wav\" #Se define el nombre del archivo donde se guardara la grabación\n",
    "\n",
    "audio=pyaudio.PyAudio() #Iniciamos pyaudio"
   ]
  },
  {
   "cell_type": "code",
   "execution_count": 8,
   "id": "31441dc8",
   "metadata": {},
   "outputs": [
    {
     "name": "stdout",
     "output_type": "stream",
     "text": [
      "Grabando ...\n",
      "La grabacion ha terminado \n"
     ]
    }
   ],
   "source": [
    "#Abrimos corriente o flujo\n",
    "stream=audio.open(format=pyaudio.paInt16,channels=2,\n",
    "\t\t\t\t\trate=44100,input=True, #rate es la frecuencia de muestreo 44.1KHz\n",
    "\t\t\t\t\tframes_per_buffer=1024)\n",
    "\t\t\t\t\t\n",
    "print(\"Grabando ...\") #Mensaje de que se inicio a grabar\n",
    "frames=[] #Aqui guardamos la grabacion\n",
    "for i in range(0,int(44100/1024*duracion)):\n",
    "\tdata=stream.read(1024)\n",
    "\tframes.append(data)\n",
    "\t\n",
    "print(\"La grabacion ha terminado \") #Mensaje de fin de grabación\n",
    "stream.stop_stream()    #Detener grabacion\n",
    "stream.close()          #Cerramos stream\n",
    "audio.terminate()"
   ]
  },
  {
   "cell_type": "code",
   "execution_count": 9,
   "id": "7b54bdc8",
   "metadata": {},
   "outputs": [],
   "source": [
    "waveFile=wave.open(archivo,'wb') #Creamos nuestro archivo\n",
    "waveFile.setnchannels(2) #Se designan los canales\n",
    "waveFile.setsampwidth(audio.get_sample_size(pyaudio.paInt16))\n",
    "waveFile.setframerate(44100) #Pasamos la frecuencia de muestreo\n",
    "waveFile.writeframes(b''.join(frames))\n",
    "waveFile.close() #Cerramos el archivo"
   ]
  },
  {
   "cell_type": "code",
   "execution_count": 10,
   "id": "0871a92f",
   "metadata": {},
   "outputs": [],
   "source": [
    "clip=(r'C:\\Users\\BHC4SLP\\Documents\\Python Projects\\Proyecto2-GraficaAudio\\PruebaAudio1.wav')\n",
    "winsound.PlaySound(clip,winsound.SND_FILENAME)"
   ]
  },
  {
   "cell_type": "markdown",
   "id": "e81a0b48",
   "metadata": {},
   "source": [
    "### BASIC INFORMATION OF THE FILE AUDIO"
   ]
  },
  {
   "cell_type": "code",
   "execution_count": 11,
   "id": "1d001f62",
   "metadata": {},
   "outputs": [
    {
     "data": {
      "text/plain": [
       "(110080,)"
      ]
     },
     "execution_count": 11,
     "metadata": {},
     "output_type": "execute_result"
    }
   ],
   "source": [
    "y, sr = librosa.load(clip) \n",
    "y.shape"
   ]
  },
  {
   "cell_type": "code",
   "execution_count": 12,
   "id": "1d97b976",
   "metadata": {},
   "outputs": [
    {
     "name": "stdout",
     "output_type": "stream",
     "text": [
      "One sample lasts for 0.000045 seconds\n"
     ]
    }
   ],
   "source": [
    "# duration in seconds of 1 sample\n",
    "sample_duration = 1 / sr\n",
    "print(f\"One sample lasts for {sample_duration:6f} seconds\")"
   ]
  },
  {
   "cell_type": "code",
   "execution_count": 13,
   "id": "de8ff59b",
   "metadata": {},
   "outputs": [
    {
     "data": {
      "text/plain": [
       "110080"
      ]
     },
     "execution_count": 13,
     "metadata": {},
     "output_type": "execute_result"
    }
   ],
   "source": [
    "# total number of samples in audio file\n",
    "tot_samples = len(y)\n",
    "tot_samples"
   ]
  },
  {
   "cell_type": "code",
   "execution_count": 14,
   "id": "2f472062",
   "metadata": {},
   "outputs": [
    {
     "name": "stdout",
     "output_type": "stream",
     "text": [
      "The audio lasts for 4.992290249433107 seconds\n"
     ]
    }
   ],
   "source": [
    "# duration of y audio in seconds\n",
    "duration = 1 / sr * tot_samples\n",
    "print(f\"The audio lasts for {duration} seconds\")"
   ]
  },
  {
   "cell_type": "markdown",
   "id": "740d7bed",
   "metadata": {},
   "source": [
    "## Transformada de fourier y amplitud en decibeles"
   ]
  },
  {
   "cell_type": "code",
   "execution_count": 15,
   "id": "c4b16989",
   "metadata": {},
   "outputs": [],
   "source": [
    "D = librosa.stft(y) # STFT of y \n",
    "S_db = librosa.amplitude_to_db(np.abs(D), ref=np.max) "
   ]
  },
  {
   "cell_type": "code",
   "execution_count": 16,
   "id": "920cb822",
   "metadata": {},
   "outputs": [
    {
     "data": {
      "text/plain": [
       "[Text(0.5, 1.0, 'WAVEFORM')]"
      ]
     },
     "execution_count": 16,
     "metadata": {},
     "output_type": "execute_result"
    },
    {
     "data": {
      "text/plain": [
       "<Figure size 1500x1700 with 0 Axes>"
      ]
     },
     "metadata": {},
     "output_type": "display_data"
    },
    {
     "data": {
      "image/png": "[encoded data removed]",
      "text/plain": [
       "<Figure size 640x480 with 1 Axes>"
      ]
     },
     "metadata": {},
     "output_type": "display_data"
    }
   ],
   "source": [
    "# Simple WAVEFORM to check clip trimming accuracy \n",
    "plt.figure(figsize=(15, 17))\n",
    "fig, ax = plt.subplots() \n",
    "img = librosa.display.waveshow(y, sr=sr, axis='time',alpha=0.5) \n",
    "ax.set(title='WAVEFORM') \n"
   ]
  },
  {
   "cell_type": "code",
   "execution_count": 18,
   "id": "d93fd464",
   "metadata": {},
   "outputs": [],
   "source": [
    "#The first strips off any trailing slashes, the second gives you the last part of the path.\n",
    "audio_filename = os.path.basename(os.path.normpath(clip)) \n",
    "FechaHora=datetime.now()\n",
    "FechaHora=FechaHora.replace(microsecond=0)\n",
    "#FechaHora=str(now.day)+\"-\"+str(now.month)+\"-\"+str(now.year)+\" \"+str(now.hour)+\"-\"+str(now.minute)+\"-\"+str(now.second)\n",
    "image_filename_to_save = str(audio_filename).replace(\".wav\", \"-\", 1) + \"WAVEFORM \" +str(FechaHora).replace(\":\", \"-\", 2) +\".png\"\n",
    "if not os.path.exists(WAVEFORM_path_export): \n",
    "    os.makedirs(WAVEFORM_path_export) \n",
    "fig.savefig(os.path.join(WAVEFORM_path_export,image_filename_to_save)) \n",
    "plt.close(\"all\")\n",
    "#str(FechaHora)\n",
    "#+ str(FechaHora).replace(\":\", \"-\", 2)"
   ]
  },
  {
   "cell_type": "markdown",
   "id": "6a6a1874",
   "metadata": {},
   "source": [
    "## Calculating amplitude envelope"
   ]
  },
  {
   "cell_type": "code",
   "execution_count": null,
   "id": "78101221",
   "metadata": {},
   "outputs": [],
   "source": [
    "FRAME_SIZE = 1024\n",
    "HOP_LENGTH = 512\n",
    "\n",
    "def amplitude_envelope(signal, frame_size, hop_length):\n",
    "    \"\"\"Calculate the amplitude envelope of a signal with a given frame size nad hop length.\"\"\"\n",
    "    amplitude_envelope = []\n",
    "    \n",
    "    # calculate amplitude envelope for each frame\n",
    "    for i in range(0, len(signal), hop_length): \n",
    "        amplitude_envelope_current_frame = max(signal[i:i+frame_size]) \n",
    "        amplitude_envelope.append(amplitude_envelope_current_frame)\n",
    "    \n",
    "    return np.array(amplitude_envelope)   "
   ]
  },
  {
   "cell_type": "code",
   "execution_count": null,
   "id": "7e12ea81",
   "metadata": {},
   "outputs": [],
   "source": [
    "def fancy_amplitude_envelope(signal, frame_size, hop_length):\n",
    "    \"\"\"Fancier Python code to calculate the amplitude envelope of a signal with a given frame size.\"\"\"\n",
    "    return np.array([max(signal[i:i+frame_size]) for i in range(0, len(signal), hop_length)])"
   ]
  },
  {
   "cell_type": "code",
   "execution_count": null,
   "id": "0b088abf",
   "metadata": {},
   "outputs": [],
   "source": [
    "# number of frames in amplitude envelope\n",
    "ae_y = amplitude_envelope(y, FRAME_SIZE, HOP_LENGTH)\n",
    "len(ae_y)"
   ]
  },
  {
   "cell_type": "markdown",
   "id": "aee10f6f",
   "metadata": {},
   "source": [
    "### Visualizing amplitude envelope"
   ]
  },
  {
   "cell_type": "code",
   "execution_count": null,
   "id": "f67e50db",
   "metadata": {},
   "outputs": [],
   "source": [
    "frames = range(len(ae_y))\n",
    "t = librosa.frames_to_time(frames, hop_length=HOP_LENGTH)"
   ]
  },
  {
   "cell_type": "code",
   "execution_count": null,
   "id": "66913402",
   "metadata": {},
   "outputs": [],
   "source": [
    "# amplitude envelope is graphed in red\n",
    "\n",
    "plt.figure(figsize=(15, 17))\n",
    "\n",
    "ax = plt.subplot()\n",
    "librosa.display.waveshow(y, alpha=0.5)\n",
    "plt.plot(t, ae_y, color=\"r\")\n",
    "#plt.ylim((-1, 1))\n",
    "plt.title(\"Amplitude envelope\")"
   ]
  },
  {
   "cell_type": "markdown",
   "id": "a68ee642",
   "metadata": {},
   "source": [
    "## Root-mean-squared energy with Librosa\n"
   ]
  },
  {
   "cell_type": "code",
   "execution_count": null,
   "id": "7b0d28c4",
   "metadata": {},
   "outputs": [],
   "source": [
    "rms_y = librosa.feature.rms(y=y, frame_length=FRAME_SIZE, hop_length=HOP_LENGTH)[0]\n"
   ]
  },
  {
   "cell_type": "markdown",
   "id": "ea364d89",
   "metadata": {},
   "source": [
    "## Visualise RMSE + waveform"
   ]
  },
  {
   "cell_type": "code",
   "execution_count": null,
   "id": "b8b116b6",
   "metadata": {},
   "outputs": [],
   "source": [
    "frames = range(len(rms_y))\n",
    "t = librosa.frames_to_time(frames, hop_length=HOP_LENGTH)"
   ]
  },
  {
   "cell_type": "code",
   "execution_count": null,
   "id": "c111dc21",
   "metadata": {},
   "outputs": [],
   "source": [
    "# rms energy is graphed in red\n",
    "\n",
    "plt.figure(figsize=(15, 17))\n",
    "ax = plt.subplot()\n",
    "librosa.display.waveshow(y, alpha=0.5)\n",
    "plt.plot(t, rms_y, color=\"r\")\n",
    "#plt.ylim((-1, 1))\n",
    "plt.title(\"Y\")\n",
    "plt.show()"
   ]
  },
  {
   "cell_type": "markdown",
   "id": "e4662332",
   "metadata": {},
   "source": [
    "## Zero-crossing rate with Librosa\n"
   ]
  },
  {
   "cell_type": "code",
   "execution_count": null,
   "id": "204a040d",
   "metadata": {},
   "outputs": [],
   "source": [
    "zcr_y = librosa.feature.zero_crossing_rate(y, frame_length=FRAME_SIZE, hop_length=HOP_LENGTH)[0]\n"
   ]
  },
  {
   "cell_type": "code",
   "execution_count": null,
   "id": "ff8d6620",
   "metadata": {},
   "outputs": [],
   "source": [
    "zcr_y.size"
   ]
  },
  {
   "cell_type": "markdown",
   "id": "4b69f481",
   "metadata": {},
   "source": [
    "## Visualise zero-crossing rate with Librosa"
   ]
  },
  {
   "cell_type": "code",
   "execution_count": null,
   "id": "78548084",
   "metadata": {},
   "outputs": [],
   "source": [
    "plt.figure(figsize=(15, 10))\n",
    "\n",
    "plt.plot(t, zcr_y, color=\"r\")\n",
    "plt.ylim(0, 1)\n",
    "plt.show()"
   ]
  },
  {
   "cell_type": "markdown",
   "id": "65a43f21",
   "metadata": {},
   "source": [
    "## SPECTROGRAM BLACK AND WHITE"
   ]
  },
  {
   "cell_type": "code",
   "execution_count": null,
   "id": "31392573",
   "metadata": {},
   "outputs": [],
   "source": [
    "# SPECTROGRAM representation - object-oriented interface \n",
    "fig, ax = plt.subplots() \n",
    "img = librosa.display.specshow(S_db, x_axis='time', y_axis='linear', ax=ax) \n",
    "img = librosa.display.specshow(S_db, x_axis='time', y_axis='log', ax=ax, cmap='gray_r') \n",
    "ax.set(title='SPECTROGRAM1') \n"
   ]
  },
  {
   "cell_type": "code",
   "execution_count": null,
   "id": "124ec9c3",
   "metadata": {},
   "outputs": [],
   "source": [
    "#The first strips off any trailing slashes, the second gives you the last part of the path. \n",
    "audio_filename = os.path.basename(os.path.normpath(clip)) \n",
    "image_filename_to_save = str(audio_filename).replace(\".flac\", \"-\", 1) + \"GREY SPECTROGRAM.png\" \n",
    "if not os.path.exists(GREYSPECTROGRAM_path_export): \n",
    "    os.makedirs(SPECTROGRAM1_path_export) \n",
    "fig.savefig(os.path.join(GREYSPECTROGRAM_path_export,image_filename_to_save)) \n",
    "plt.close()"
   ]
  },
  {
   "cell_type": "markdown",
   "id": "4977b504",
   "metadata": {},
   "source": [
    "## SPECTROGRAM"
   ]
  },
  {
   "cell_type": "code",
   "execution_count": null,
   "id": "fe8d9f1f",
   "metadata": {},
   "outputs": [],
   "source": [
    "# SPECTROGRAM representation - object-oriented interface \n",
    "\n",
    "fig, ax = plt.subplots() \n",
    "#img = librosa.display.specshow(S_db, x_axis='time', y_axis='linear', ax=ax) \n",
    "img = librosa.display.specshow(S_db, x_axis='time', y_axis='log', ax=ax) \n",
    "ax.set(title='SPECTROGRAM') \n",
    "#fig.colorbar()\n"
   ]
  },
  {
   "cell_type": "code",
   "execution_count": null,
   "id": "11fc72dd",
   "metadata": {},
   "outputs": [],
   "source": [
    "#The first strips off any trailing slashes, the second gives you the last part of the path. \n",
    "audio_filename = os.path.basename(os.path.normpath(clip)) \n",
    "image_filename_to_save = str(audio_filename).replace(\".flac\", \"-\", 1) + \"SPECTROGRAM.png\" \n",
    "if not os.path.exists(SPECTROGRAM_path_export): \n",
    "    os.makedirs(SPECTROGRAM_path_export) \n",
    "fig.savefig(os.path.join(SPECTROGRAM_path_export,image_filename_to_save)) \n",
    "plt.close()"
   ]
  },
  {
   "cell_type": "markdown",
   "id": "dc86ef15",
   "metadata": {},
   "source": [
    "## MEL SPECTROGRAM"
   ]
  },
  {
   "cell_type": "code",
   "execution_count": null,
   "id": "7ec00b50",
   "metadata": {},
   "outputs": [],
   "source": [
    "mel_spectrogram = librosa.feature.melspectrogram(y=y, sr=sr, n_fft=2048, hop_length=512, n_mels=90)\n",
    "log_mel_spectrogram = librosa.power_to_db(mel_spectrogram)"
   ]
  },
  {
   "cell_type": "code",
   "execution_count": null,
   "id": "cae81d4a",
   "metadata": {},
   "outputs": [],
   "source": [
    "plt.figure(figsize=(25, 10))\n",
    "fig, ax = plt.subplots() \n",
    "img=librosa.display.specshow(log_mel_spectrogram, \n",
    "                         x_axis=\"time\",\n",
    "                         y_axis=\"mel\", \n",
    "                         sr=sr)\n",
    "plt.colorbar(format=\"%+2.f\")\n",
    "ax.set(title='MEL SPECTROGRAM') "
   ]
  },
  {
   "cell_type": "code",
   "execution_count": null,
   "id": "43e70312",
   "metadata": {},
   "outputs": [],
   "source": [
    "#The first strips off any trailing slashes, the second gives you the last part of the path. \n",
    "audio_filename = os.path.basename(os.path.normpath(clip)) \n",
    "image_filename_to_save = str(audio_filename).replace(\".flac\", \"-\", 1) + \"MEL SPECTROGRAM.png\" \n",
    "if not os.path.exists(MELSPECTROGRAM_path_export): \n",
    "    os.makedirs(MELSPECTROGRAM_path_export) \n",
    "fig.savefig(os.path.join(MELSPECTROGRAM_path_export,image_filename_to_save)) \n",
    "plt.close()"
   ]
  },
  {
   "cell_type": "markdown",
   "id": "328ecd5e",
   "metadata": {},
   "source": [
    "## CHROMAGRAM"
   ]
  },
  {
   "cell_type": "code",
   "execution_count": null,
   "id": "0ee01de6",
   "metadata": {},
   "outputs": [],
   "source": [
    "#CHROMAGRAM representation - object-oriented interface \n",
    "CHROMAGRAM = librosa.feature.chroma_cqt(y=y, sr=sr) \n",
    "fig, ax = plt.subplots() \n",
    "img = librosa.display.specshow(CHROMAGRAM, y_axis='chroma', x_axis='time', ax=ax) \n",
    "ax.set(title='CHROMAGRAM') \n"
   ]
  },
  {
   "cell_type": "code",
   "execution_count": null,
   "id": "1b261494",
   "metadata": {},
   "outputs": [],
   "source": [
    "audio_filename = os.path.basename(os.path.normpath(clip)) \n",
    "image_filename_to_save = str(audio_filename).replace(\".flac\", \"-\", 1) + \"CHROMAGRAM.png\" \n",
    "if not os.path.exists(CHROMAGRAM_path_export): \n",
    "    os.makedirs(CHROMAGRAM_path_export) \n",
    "fig.savefig(os.path.join(CHROMAGRAM_path_export,image_filename_to_save)) \n",
    "plt.close()"
   ]
  },
  {
   "cell_type": "markdown",
   "id": "493d58cb",
   "metadata": {},
   "source": [
    "## MFCCs"
   ]
  },
  {
   "cell_type": "code",
   "execution_count": null,
   "id": "9e7aaa3d",
   "metadata": {},
   "outputs": [],
   "source": [
    "#MFCC representation - object-oriented interface \n",
    "mfccs = librosa.feature.mfcc(y=y, sr=sr, n_mfcc=13, n_fft=1200) \n",
    "fig, ax = plt.subplots() \n",
    "img = librosa.display.specshow(mfccs, x_axis='time') \n",
    "ax.set(title='Mel-frequency cepstral coefficients (MFCCs)') "
   ]
  },
  {
   "cell_type": "code",
   "execution_count": null,
   "id": "239651f2",
   "metadata": {},
   "outputs": [],
   "source": [
    "audio_filename = os.path.basename(os.path.normpath(clip)) \n",
    "image_filename_to_save = str(audio_filename).replace(\".flac\", \"-\", 1) + \"MFCC.png\" \n",
    "if not os.path.exists(MFCC_path_export): \n",
    "    os.makedirs(MFCC_path_export) \n",
    "fig.savefig(os.path.join(MFCC_path_export,image_filename_to_save)) \n",
    "plt.close()"
   ]
  },
  {
   "cell_type": "code",
   "execution_count": null,
   "id": "fff4894c",
   "metadata": {},
   "outputs": [],
   "source": [
    "HOP_SIZE=512\n",
    "y_spec = librosa.stft(y, n_fft=FRAME_SIZE, hop_length=HOP_SIZE)"
   ]
  },
  {
   "cell_type": "code",
   "execution_count": null,
   "id": "8bc32100",
   "metadata": {},
   "outputs": [],
   "source": [
    "def calculate_split_frequency_bin(split_frequency, sample_rate, num_frequency_bins):\n",
    "    \"\"\"Infer the frequency bin associated to a given split frequency.\"\"\"\n",
    "    \n",
    "    frequency_range = sample_rate / 2\n",
    "    frequency_delta_per_bin = frequency_range / num_frequency_bins\n",
    "    split_frequency_bin = math.floor(split_frequency / frequency_delta_per_bin)\n",
    "    return int(split_frequency_bin)"
   ]
  },
  {
   "cell_type": "code",
   "execution_count": null,
   "id": "59f54d7d",
   "metadata": {},
   "outputs": [],
   "source": [
    "split_frequency_bin = calculate_split_frequency_bin(2000, 22050, 1025)\n",
    "split_frequency_bin"
   ]
  },
  {
   "cell_type": "code",
   "execution_count": null,
   "id": "9eab1b7b",
   "metadata": {},
   "outputs": [],
   "source": [
    "def band_energy_ratio(spectrogram, split_frequency, sample_rate):\n",
    "    \"\"\"Calculate band energy ratio with a given split frequency.\"\"\"\n",
    "    \n",
    "    split_frequency_bin = calculate_split_frequency_bin(split_frequency, sample_rate, len(spectrogram[0]))\n",
    "    band_energy_ratio = []\n",
    "    \n",
    "    # calculate power spectrogram\n",
    "    power_spectrogram = np.abs(spectrogram) ** 2\n",
    "    power_spectrogram = power_spectrogram.T\n",
    "    \n",
    "    # calculate BER value for each frame\n",
    "    for frame in power_spectrogram:\n",
    "        sum_power_low_frequencies = frame[:split_frequency_bin].sum()\n",
    "        sum_power_high_frequencies = frame[split_frequency_bin:].sum()\n",
    "        band_energy_ratio_current_frame = sum_power_low_frequencies / sum_power_high_frequencies\n",
    "        band_energy_ratio.append(band_energy_ratio_current_frame)\n",
    "    \n",
    "    return np.array(band_energy_ratio)"
   ]
  },
  {
   "cell_type": "code",
   "execution_count": null,
   "id": "48d0c497",
   "metadata": {},
   "outputs": [],
   "source": [
    "ber_y = band_energy_ratio(y_spec, 2000, sr)\n"
   ]
  },
  {
   "cell_type": "code",
   "execution_count": null,
   "id": "a9dd65e0",
   "metadata": {},
   "outputs": [],
   "source": [
    "len(ber_y)"
   ]
  },
  {
   "cell_type": "markdown",
   "id": "41a3971c",
   "metadata": {},
   "source": [
    "## Visualise Band Energy Ratio"
   ]
  },
  {
   "cell_type": "code",
   "execution_count": null,
   "id": "bd47495f",
   "metadata": {},
   "outputs": [],
   "source": [
    "frames = range(len(ber_y))\n",
    "t = librosa.frames_to_time(frames, hop_length=HOP_SIZE)"
   ]
  },
  {
   "cell_type": "code",
   "execution_count": null,
   "id": "790fe713",
   "metadata": {},
   "outputs": [],
   "source": [
    "plt.figure(figsize=(25, 10))\n",
    "\n",
    "plt.plot(t, ber_y, color=\"b\")\n",
    "#plt.ylim((0, 200))\n",
    "plt.show()"
   ]
  },
  {
   "cell_type": "markdown",
   "id": "7b6ba72e",
   "metadata": {},
   "source": [
    "## Spectral Centroid"
   ]
  },
  {
   "cell_type": "code",
   "execution_count": null,
   "id": "e9def63a",
   "metadata": {},
   "outputs": [],
   "source": [
    "sc_y = librosa.feature.spectral_centroid(y=y, sr=sr, n_fft=FRAME_SIZE, hop_length=HOP_LENGTH)[0]\n"
   ]
  },
  {
   "cell_type": "code",
   "execution_count": null,
   "id": "45566b54",
   "metadata": {},
   "outputs": [],
   "source": [
    "sc_y.shape"
   ]
  },
  {
   "cell_type": "markdown",
   "id": "297959d1",
   "metadata": {},
   "source": [
    "## Visualising spectral centroid"
   ]
  },
  {
   "cell_type": "code",
   "execution_count": null,
   "id": "deaf4135",
   "metadata": {},
   "outputs": [],
   "source": [
    "len(t)"
   ]
  },
  {
   "cell_type": "code",
   "execution_count": null,
   "id": "73815b38",
   "metadata": {},
   "outputs": [],
   "source": [
    "plt.figure(figsize=(25,10))\n",
    "plt.plot(t, sc_y, color='b')\n",
    "plt.show()"
   ]
  },
  {
   "cell_type": "markdown",
   "id": "cdca0f8a",
   "metadata": {},
   "source": [
    "## Spectral bandwidth with Librosa"
   ]
  },
  {
   "cell_type": "code",
   "execution_count": null,
   "id": "004be256",
   "metadata": {},
   "outputs": [],
   "source": [
    "ban_y = librosa.feature.spectral_bandwidth(y=y, sr=sr, n_fft=FRAME_SIZE, hop_length=HOP_LENGTH)[0]"
   ]
  },
  {
   "cell_type": "code",
   "execution_count": null,
   "id": "4ac1ebad",
   "metadata": {},
   "outputs": [],
   "source": [
    "ban_y.shape"
   ]
  },
  {
   "cell_type": "markdown",
   "id": "fbcfefef",
   "metadata": {},
   "source": [
    "## Visualising spectral bandwidth"
   ]
  },
  {
   "cell_type": "code",
   "execution_count": null,
   "id": "dd768561",
   "metadata": {},
   "outputs": [],
   "source": [
    "plt.figure(figsize=(25,10))\n",
    "\n",
    "plt.plot(t, ban_y, color='b')\n",
    "plt.show()"
   ]
  }
 ],
 "metadata": {
  "kernelspec": {
   "display_name": "Python [conda env:.conda-Librosa]",
   "language": "python",
   "name": "conda-env-.conda-Librosa-py"
  },
  "language_info": {
   "codemirror_mode": {
    "name": "ipython",
    "version": 3
   },
   "file_extension": ".py",
   "mimetype": "text/x-python",
   "name": "python",
   "nbconvert_exporter": "python",
   "pygments_lexer": "ipython3",
   "version": "3.7.9"
  }
 },
 "nbformat": 4,
 "nbformat_minor": 5
}
