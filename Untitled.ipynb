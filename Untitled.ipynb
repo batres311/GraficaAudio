{
 "cells": [
  {
   "cell_type": "code",
   "execution_count": 2,
   "id": "59f194c7",
   "metadata": {},
   "outputs": [],
   "source": [
    "import librosa\n",
    "import os\n",
    "import numpy as np\n",
    "import matplotlib.pyplot as plt"
   ]
  },
  {
   "cell_type": "code",
   "execution_count": 3,
   "id": "86cea6d8",
   "metadata": {},
   "outputs": [],
   "source": [
    "WAVEFORM_path_export = 'waveform'\n",
    "SPECTROGRAM_path_export='spectogram'\n",
    "CHROMAGRAM_path_export='chromagram'\n",
    "MFCC_path_export='mfcc'\n",
    "clip = (r'C:\\Users\\BHC4SLP\\Documents\\Python Projects\\Proyecto2-GraficaAudio\\PruebaAudio1.wav')"
   ]
  },
  {
   "cell_type": "code",
   "execution_count": 4,
   "id": "eaaac6a9",
   "metadata": {},
   "outputs": [],
   "source": [
    "y, sr = librosa.load(clip) \n",
    "D = librosa.stft(y) # STFT of y \n"
   ]
  },
  {
   "cell_type": "code",
   "execution_count": null,
   "id": "f9d1dc04",
   "metadata": {},
   "outputs": [],
   "source": []
  }
 ],
 "metadata": {
  "kernelspec": {
   "display_name": "Python [conda env:.conda-Librosa]",
   "language": "python",
   "name": "conda-env-.conda-Librosa-py"
  },
  "language_info": {
   "codemirror_mode": {
    "name": "ipython",
    "version": 3
   },
   "file_extension": ".py",
   "mimetype": "text/x-python",
   "name": "python",
   "nbconvert_exporter": "python",
   "pygments_lexer": "ipython3",
   "version": "3.7.9"
  }
 },
 "nbformat": 4,
 "nbformat_minor": 5
}
